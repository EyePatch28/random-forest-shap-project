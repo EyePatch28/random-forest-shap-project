{
 "cells": [
  {
   "cell_type": "markdown",
   "id": "bc8cbeab",
   "metadata": {},
   "source": [
    "# Customer interest classification (SHAP, SMOTE, GridSearchCV)"
   ]
  },
  {
   "cell_type": "code",
   "execution_count": null,
   "id": "29fd1cd0",
   "metadata": {},
   "outputs": [],
   "source": [
    "import pandas as pd\n",
    "import numpy as np\n",
    "import matplotlib.pyplot as plt\n",
    "import seaborn as sns\n",
    "\n",
    "from sklearn.model_selection import train_test_split, GridSearchCV\n",
    "from sklearn.ensemble import RandomForestClassifier\n",
    "from sklearn.metrics import classification_report, confusion_matrix, roc_curve\n",
    "from sklearn.preprocessing import LabelEncoder, label_binarize\n",
    "from sklearn.feature_selection import RFECV\n",
    "from sklearn.multiclass import OneVsRestClassifier\n",
    "\n",
    "import shap\n",
    "from imblearn.over_sampling import SMOTE\n",
    "from imblearn.pipeline import Pipeline\n",
    "\n",
    "import warnings\n",
    "warnings.filterwarnings('ignore')"
   ]
  },
  {
   "cell_type": "code",
   "execution_count": null,
   "id": "44d4387a",
   "metadata": {},
   "outputs": [],
   "source": [
    "df = pd.read_csv(\"ICM520_2024_2025_Report_PartA_DataSet_2000Rows.csv\")\n",
    "df.head()"
   ]
  },
  {
   "cell_type": "code",
   "execution_count": null,
   "id": "2c3badf9",
   "metadata": {},
   "outputs": [],
   "source": [
    "df['FEAT_1'] = LabelEncoder().fit_transform(df['FEAT_1'])\n",
    "df['FEAT_15'] = LabelEncoder().fit_transform(df['FEAT_15'])\n",
    "df['FEAT_9'].fillna(df['FEAT_9'].median(), inplace=True)\n",
    "\n",
    "X = df.drop('CATEGORY', axis=1)\n",
    "y = df['CATEGORY']\n",
    "\n",
    "X_train, X_test, y_train, y_test = train_test_split(X, y, test_size=0.2, stratify=y, random_state=42)"
   ]
  },
  {
   "cell_type": "code",
   "execution_count": null,
   "id": "6a5e8a0f",
   "metadata": {},
   "outputs": [],
   "source": [
    "smote = SMOTE(random_state=42)\n",
    "X_train_res, y_train_res = smote.fit_resample(X_train, y_train)\n",
    "pd.Series(y_train_res).value_counts()"
   ]
  },
  {
   "cell_type": "code",
   "execution_count": null,
   "id": "2e09c85e",
   "metadata": {},
   "outputs": [],
   "source": [
    "pipeline = Pipeline([\n",
    "    ('rf', RandomForestClassifier(class_weight='balanced', random_state=42))\n",
    "])\n",
    "\n",
    "param_grid = {\n",
    "    'rf__n_estimators': [100, 200],\n",
    "    'rf__max_depth': [10, 20, None],\n",
    "    'rf__min_samples_split': [2, 5],\n",
    "    'rf__max_features': ['sqrt', 'log2']\n",
    "}\n",
    "\n",
    "grid_search = GridSearchCV(pipeline, param_grid, scoring='recall_macro', cv=5, n_jobs=-1, verbose=2)\n",
    "grid_search.fit(X_train_res, y_train_res)\n",
    "\n",
    "best_rf = grid_search.best_estimator_\n",
    "print(\"Best Params:\", grid_search.best_params_)"
   ]
  },
  {
   "cell_type": "code",
   "execution_count": null,
   "id": "0135e51d",
   "metadata": {},
   "outputs": [],
   "source": [
    "y_pred_rf = best_rf.predict(X_test)\n",
    "print(\"Classification Report:\")\n",
    "print(classification_report(y_test, y_pred_rf))"
   ]
  },
  {
   "cell_type": "code",
   "execution_count": null,
   "id": "1be256ca",
   "metadata": {},
   "outputs": [],
   "source": [
    "# Final working SHAP block\n",
    "rf_model = best_rf.named_steps['rf']\n",
    "X_test_array = X_test.values\n",
    "feature_names = X_test.columns.tolist()\n",
    "\n",
    "explainer = shap.TreeExplainer(rf_model)\n",
    "shap_values = explainer.shap_values(X_test_array)\n",
    "\n",
    "# Check shapes\n",
    "print(\"Expected shape:\", X_test_array.shape)\n",
    "print(\"SHAP shape (class 0):\", shap_values[0].shape)\n",
    "\n",
    "# Fix transposed SHAP shape if needed\n",
    "shap_vals_class0 = shap_values[0]\n",
    "if shap_vals_class0.shape[1] != len(feature_names):\n",
    "    print(\"Fixing SHAP transpose...\")\n",
    "    shap_vals_class0 = shap_vals_class0.T\n",
    "\n",
    "# Final plot\n",
    "shap.summary_plot(shap_vals_class0, features=X_test_array, feature_names=feature_names, plot_type=\"bar\")"
   ]
  }
 ],
 "metadata": {},
 "nbformat": 4,
 "nbformat_minor": 5
}
